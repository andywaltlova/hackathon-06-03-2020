{
 "cells": [
  {
   "cell_type": "markdown",
   "metadata": {},
   "source": [
    "### Imports"
   ]
  },
  {
   "cell_type": "code",
   "execution_count": 76,
   "metadata": {
    "collapsed": false,
    "jupyter": {
     "outputs_hidden": false
    },
    "pycharm": {
     "name": "#%%\n"
    }
   },
   "outputs": [],
   "source": [
    "import pandas as pd\n",
    "import numpy as np\n",
    "import matplotlib.pyplot as plt\n",
    "import re\n",
    "from os import listdir\n",
    "from pathlib import Path"
   ]
  },
  {
   "cell_type": "markdown",
   "metadata": {},
   "source": [
    "### 1. Functions for cleaning data"
   ]
  },
  {
   "cell_type": "markdown",
   "metadata": {},
   "source": [
    "#### 1.1 Clean and convert to right datatypes"
   ]
  },
  {
   "cell_type": "code",
   "execution_count": 2,
   "metadata": {
    "collapsed": false,
    "jupyter": {
     "outputs_hidden": false
    },
    "pycharm": {
     "name": "#%%\n"
    }
   },
   "outputs": [],
   "source": [
    "def clean_data(df):\n",
    "    on_off_regex = '[^(]*\\(([0-9])\\).*'\n",
    "    state_regex = \"([^ ]*) \\(([0-9])\\)\"\n",
    "\n",
    "    df['beam_is_on'] = df['beam_is_on'].str.extract(on_off_regex)\n",
    "    df['beam_is_on'] = pd.to_numeric(df['beam_is_on'])\n",
    "    df['service_mode_is_on'] = df['service_mode_is_on'].str.extract(on_off_regex)\n",
    "    df['service_mode_is_on'] = pd.to_numeric(df['service_mode_is_on'])\n",
    "    df['server_watchdog'] = pd.to_numeric(df['server_watchdog'])\n",
    "\n",
    "    # # Split 'External state' to two new columns\n",
    "    df['external_state'] = df['external_state'].fillna(method='ffill')\n",
    "    df[['external_state_name','external_state_num']] = df['external_state'].str.extract(state_regex, expand=True)\n",
    "    df = df.drop(['external_state','external_state_name'], axis=1)\n",
    "    df['external_state_num'] = pd.to_numeric(df['external_state_num'])\n",
    "\n",
    "    df['external_state_num'] = np.where(df['external_state_num'] != 4.0, 0, 1)\n",
    "    return df"
   ]
  },
  {
   "cell_type": "markdown",
   "metadata": {},
   "source": [
    "#### 1.2 Fill NaN values"
   ]
  },
  {
   "cell_type": "code",
   "execution_count": 3,
   "metadata": {},
   "outputs": [],
   "source": [
    "# Pandas fillna methods:\n",
    "#  pad / ffill: propagate last valid observation forward to next valid (until new values is found, propagates last valid value forward)\n",
    "#  backfill / bfill: use next valid observation to fill gap. \n",
    "\n",
    "def fill_na_values(df):\n",
    "    def get_opposite_value(x): return 1 if int(x) == 0 else 0\n",
    "\n",
    "    df = df.sort_values(by='date_time', ascending=True)\n",
    "\n",
    "    first_valid_beam = df['beam_is_on'].dropna().iloc(0)[0]\n",
    "    df['beam_is_on'] = df['beam_is_on'].fillna(method='ffill')\n",
    "    df['beam_is_on'] = df['beam_is_on'].fillna(get_opposite_value(first_valid_beam)).astype('int32')\n",
    "\n",
    "\n",
    "    first_valid_blank = df['is_blanked'].dropna().iloc(0)[0]\n",
    "    df['is_blanked'] = df['is_blanked'].fillna(method='ffill')\n",
    "    df['is_blanked'] = df['is_blanked'].fillna(get_opposite_value(first_valid_blank)).astype('int32')\n",
    "\n",
    "    first_valid_server = df['server_watchdog'].dropna().iloc(0)[0]\n",
    "    df['server_watchdog'] = df['server_watchdog'].fillna(method='ffill')\n",
    "    df['server_watchdog'] = df['server_watchdog'].fillna(get_opposite_value(first_valid_server)).astype('int32')\n",
    "\n",
    "    first_valid_service_mode = df['service_mode_is_on'].dropna().iloc(0)[0]\n",
    "    df['service_mode_is_on'] = df['service_mode_is_on'].fillna(method='ffill')\n",
    "    df['service_mode_is_on'] = df['service_mode_is_on'].fillna(get_opposite_value(first_valid_service_mode)).astype('int32')\n",
    "    \n",
    "    return df"
   ]
  },
  {
   "cell_type": "markdown",
   "metadata": {},
   "source": [
    "#### 1.3 Drop consecutive duplicates"
   ]
  },
  {
   "cell_type": "code",
   "execution_count": 4,
   "metadata": {},
   "outputs": [],
   "source": [
    "def drop_consecutive_duplicates(df):\n",
    "    cols = ['server_watchdog','beam_is_on','external_state_num','is_blanked','service_mode_is_on']\n",
    "    f = df[cols].ne(df[cols].shift()).any(1)\n",
    "    return df[f]\n"
   ]
  },
  {
   "cell_type": "markdown",
   "metadata": {},
   "source": [
    "#### 1.4 Add new columns"
   ]
  },
  {
   "cell_type": "code",
   "execution_count": 5,
   "metadata": {},
   "outputs": [],
   "source": [
    "def add_new_columns(df):\n",
    "    df['day_of_week'] = df['date_time'].dt.day_name()\n",
    "    df['hour'] = df['date_time'].dt.hour\n",
    "\n",
    "    df['server_watchdog_changed'] = df['server_watchdog'].diff().astype(bool)\n",
    "    df['beam_is_on_changed'] = df['beam_is_on'].diff().astype(bool)\n",
    "    df['external_state_num_changed'] = df['external_state_num'].diff().astype(bool)\n",
    "    df['is_blanked_changed'] = df['is_blanked'].diff().astype(bool)\n",
    "    df['service_mode_is_on_changed'] = df['service_mode_is_on'].diff().astype(bool)\n",
    "    \n",
    "    # State duration\n",
    "    df['duration_of_state'] = df['date_time'].diff().shift(-1)\n",
    "    \n",
    "    # Microscope is working\n",
    "    df['is_working'] = (df['external_state_num'] == 1) & (df['beam_is_on'] == 1) & (df['is_blanked'] == 0) & (df['service_mode_is_on'] == 0)\n",
    "    df['working_while_in_service'] = (df['service_mode_is_on']==1) & (df['external_state_num']==1)\n",
    "    df['blanked_while_beam_is_on'] = (df['beam_is_on']==1) & (df['is_blanked']==1)\n",
    "    \n",
    "    return df\n",
    "\n"
   ]
  },
  {
   "cell_type": "markdown",
   "metadata": {},
   "source": [
    "# 3. Main"
   ]
  },
  {
   "cell_type": "code",
   "execution_count": 6,
   "metadata": {},
   "outputs": [
    {
     "data": {
      "text/html": [
       "<div>\n",
       "<style scoped>\n",
       "    .dataframe tbody tr th:only-of-type {\n",
       "        vertical-align: middle;\n",
       "    }\n",
       "\n",
       "    .dataframe tbody tr th {\n",
       "        vertical-align: top;\n",
       "    }\n",
       "\n",
       "    .dataframe thead th {\n",
       "        text-align: right;\n",
       "    }\n",
       "</style>\n",
       "<table border=\"1\" class=\"dataframe\">\n",
       "  <thead>\n",
       "    <tr style=\"text-align: right;\">\n",
       "      <th></th>\n",
       "      <th>Microscope</th>\n",
       "      <th>date_time</th>\n",
       "      <th>server_watchdog</th>\n",
       "      <th>beam_is_on</th>\n",
       "      <th>is_blanked</th>\n",
       "      <th>service_mode_is_on</th>\n",
       "      <th>external_state_num</th>\n",
       "      <th>day_of_week</th>\n",
       "      <th>hour</th>\n",
       "      <th>server_watchdog_changed</th>\n",
       "      <th>beam_is_on_changed</th>\n",
       "      <th>external_state_num_changed</th>\n",
       "      <th>is_blanked_changed</th>\n",
       "      <th>service_mode_is_on_changed</th>\n",
       "      <th>duration_of_state</th>\n",
       "      <th>is_working</th>\n",
       "      <th>working_while_in_service</th>\n",
       "      <th>blanked_while_beam_is_on</th>\n",
       "    </tr>\n",
       "  </thead>\n",
       "  <tbody>\n",
       "    <tr>\n",
       "      <th>0</th>\n",
       "      <td>System 1</td>\n",
       "      <td>2020-11-25 08:00:23.130</td>\n",
       "      <td>1</td>\n",
       "      <td>0</td>\n",
       "      <td>1</td>\n",
       "      <td>1</td>\n",
       "      <td>0</td>\n",
       "      <td>Wednesday</td>\n",
       "      <td>8</td>\n",
       "      <td>True</td>\n",
       "      <td>True</td>\n",
       "      <td>True</td>\n",
       "      <td>True</td>\n",
       "      <td>True</td>\n",
       "      <td>0 days 00:35:33.520000</td>\n",
       "      <td>False</td>\n",
       "      <td>False</td>\n",
       "      <td>False</td>\n",
       "    </tr>\n",
       "    <tr>\n",
       "      <th>1</th>\n",
       "      <td>System 1</td>\n",
       "      <td>2020-11-25 08:35:56.650</td>\n",
       "      <td>1</td>\n",
       "      <td>0</td>\n",
       "      <td>1</td>\n",
       "      <td>0</td>\n",
       "      <td>0</td>\n",
       "      <td>Wednesday</td>\n",
       "      <td>8</td>\n",
       "      <td>False</td>\n",
       "      <td>False</td>\n",
       "      <td>False</td>\n",
       "      <td>False</td>\n",
       "      <td>True</td>\n",
       "      <td>0 days 00:00:23.423000</td>\n",
       "      <td>False</td>\n",
       "      <td>False</td>\n",
       "      <td>False</td>\n",
       "    </tr>\n",
       "    <tr>\n",
       "      <th>2</th>\n",
       "      <td>System 1</td>\n",
       "      <td>2020-11-25 08:36:20.073</td>\n",
       "      <td>1</td>\n",
       "      <td>0</td>\n",
       "      <td>1</td>\n",
       "      <td>0</td>\n",
       "      <td>1</td>\n",
       "      <td>Wednesday</td>\n",
       "      <td>8</td>\n",
       "      <td>False</td>\n",
       "      <td>False</td>\n",
       "      <td>True</td>\n",
       "      <td>False</td>\n",
       "      <td>False</td>\n",
       "      <td>0 days 00:00:03.425000</td>\n",
       "      <td>False</td>\n",
       "      <td>False</td>\n",
       "      <td>False</td>\n",
       "    </tr>\n",
       "    <tr>\n",
       "      <th>3</th>\n",
       "      <td>System 1</td>\n",
       "      <td>2020-11-25 08:36:23.498</td>\n",
       "      <td>1</td>\n",
       "      <td>1</td>\n",
       "      <td>1</td>\n",
       "      <td>0</td>\n",
       "      <td>1</td>\n",
       "      <td>Wednesday</td>\n",
       "      <td>8</td>\n",
       "      <td>False</td>\n",
       "      <td>True</td>\n",
       "      <td>False</td>\n",
       "      <td>False</td>\n",
       "      <td>False</td>\n",
       "      <td>0 days 00:51:17.095000</td>\n",
       "      <td>False</td>\n",
       "      <td>False</td>\n",
       "      <td>True</td>\n",
       "    </tr>\n",
       "    <tr>\n",
       "      <th>4</th>\n",
       "      <td>System 1</td>\n",
       "      <td>2020-11-25 09:27:40.593</td>\n",
       "      <td>1</td>\n",
       "      <td>1</td>\n",
       "      <td>1</td>\n",
       "      <td>0</td>\n",
       "      <td>0</td>\n",
       "      <td>Wednesday</td>\n",
       "      <td>9</td>\n",
       "      <td>False</td>\n",
       "      <td>False</td>\n",
       "      <td>True</td>\n",
       "      <td>False</td>\n",
       "      <td>False</td>\n",
       "      <td>0 days 00:00:02.111000</td>\n",
       "      <td>False</td>\n",
       "      <td>False</td>\n",
       "      <td>True</td>\n",
       "    </tr>\n",
       "    <tr>\n",
       "      <th>...</th>\n",
       "      <td>...</td>\n",
       "      <td>...</td>\n",
       "      <td>...</td>\n",
       "      <td>...</td>\n",
       "      <td>...</td>\n",
       "      <td>...</td>\n",
       "      <td>...</td>\n",
       "      <td>...</td>\n",
       "      <td>...</td>\n",
       "      <td>...</td>\n",
       "      <td>...</td>\n",
       "      <td>...</td>\n",
       "      <td>...</td>\n",
       "      <td>...</td>\n",
       "      <td>...</td>\n",
       "      <td>...</td>\n",
       "      <td>...</td>\n",
       "      <td>...</td>\n",
       "    </tr>\n",
       "    <tr>\n",
       "      <th>5555328</th>\n",
       "      <td>System 9</td>\n",
       "      <td>2021-02-05 14:56:38.158</td>\n",
       "      <td>1</td>\n",
       "      <td>1</td>\n",
       "      <td>0</td>\n",
       "      <td>0</td>\n",
       "      <td>1</td>\n",
       "      <td>Friday</td>\n",
       "      <td>14</td>\n",
       "      <td>False</td>\n",
       "      <td>False</td>\n",
       "      <td>False</td>\n",
       "      <td>True</td>\n",
       "      <td>False</td>\n",
       "      <td>0 days 00:00:00.568000</td>\n",
       "      <td>True</td>\n",
       "      <td>False</td>\n",
       "      <td>False</td>\n",
       "    </tr>\n",
       "    <tr>\n",
       "      <th>5555329</th>\n",
       "      <td>System 9</td>\n",
       "      <td>2021-02-05 14:56:38.726</td>\n",
       "      <td>1</td>\n",
       "      <td>1</td>\n",
       "      <td>1</td>\n",
       "      <td>0</td>\n",
       "      <td>1</td>\n",
       "      <td>Friday</td>\n",
       "      <td>14</td>\n",
       "      <td>False</td>\n",
       "      <td>False</td>\n",
       "      <td>False</td>\n",
       "      <td>True</td>\n",
       "      <td>False</td>\n",
       "      <td>0 days 00:00:02.278000</td>\n",
       "      <td>False</td>\n",
       "      <td>False</td>\n",
       "      <td>True</td>\n",
       "    </tr>\n",
       "    <tr>\n",
       "      <th>5555330</th>\n",
       "      <td>System 9</td>\n",
       "      <td>2021-02-05 14:56:41.004</td>\n",
       "      <td>1</td>\n",
       "      <td>1</td>\n",
       "      <td>0</td>\n",
       "      <td>0</td>\n",
       "      <td>1</td>\n",
       "      <td>Friday</td>\n",
       "      <td>14</td>\n",
       "      <td>False</td>\n",
       "      <td>False</td>\n",
       "      <td>False</td>\n",
       "      <td>True</td>\n",
       "      <td>False</td>\n",
       "      <td>0 days 00:00:03.467000</td>\n",
       "      <td>True</td>\n",
       "      <td>False</td>\n",
       "      <td>False</td>\n",
       "    </tr>\n",
       "    <tr>\n",
       "      <th>5555331</th>\n",
       "      <td>System 9</td>\n",
       "      <td>2021-02-05 14:56:44.471</td>\n",
       "      <td>1</td>\n",
       "      <td>1</td>\n",
       "      <td>1</td>\n",
       "      <td>0</td>\n",
       "      <td>1</td>\n",
       "      <td>Friday</td>\n",
       "      <td>14</td>\n",
       "      <td>False</td>\n",
       "      <td>False</td>\n",
       "      <td>False</td>\n",
       "      <td>True</td>\n",
       "      <td>False</td>\n",
       "      <td>0 days 00:00:08.670000</td>\n",
       "      <td>False</td>\n",
       "      <td>False</td>\n",
       "      <td>True</td>\n",
       "    </tr>\n",
       "    <tr>\n",
       "      <th>5555332</th>\n",
       "      <td>System 9</td>\n",
       "      <td>2021-02-05 14:56:53.141</td>\n",
       "      <td>1</td>\n",
       "      <td>1</td>\n",
       "      <td>0</td>\n",
       "      <td>0</td>\n",
       "      <td>1</td>\n",
       "      <td>Friday</td>\n",
       "      <td>14</td>\n",
       "      <td>False</td>\n",
       "      <td>False</td>\n",
       "      <td>False</td>\n",
       "      <td>True</td>\n",
       "      <td>False</td>\n",
       "      <td>NaT</td>\n",
       "      <td>True</td>\n",
       "      <td>False</td>\n",
       "      <td>False</td>\n",
       "    </tr>\n",
       "  </tbody>\n",
       "</table>\n",
       "<p>5555333 rows × 18 columns</p>\n",
       "</div>"
      ],
      "text/plain": [
       "        Microscope               date_time  server_watchdog  beam_is_on  \\\n",
       "0         System 1 2020-11-25 08:00:23.130                1           0   \n",
       "1         System 1 2020-11-25 08:35:56.650                1           0   \n",
       "2         System 1 2020-11-25 08:36:20.073                1           0   \n",
       "3         System 1 2020-11-25 08:36:23.498                1           1   \n",
       "4         System 1 2020-11-25 09:27:40.593                1           1   \n",
       "...            ...                     ...              ...         ...   \n",
       "5555328   System 9 2021-02-05 14:56:38.158                1           1   \n",
       "5555329   System 9 2021-02-05 14:56:38.726                1           1   \n",
       "5555330   System 9 2021-02-05 14:56:41.004                1           1   \n",
       "5555331   System 9 2021-02-05 14:56:44.471                1           1   \n",
       "5555332   System 9 2021-02-05 14:56:53.141                1           1   \n",
       "\n",
       "         is_blanked  service_mode_is_on  external_state_num day_of_week  hour  \\\n",
       "0                 1                   1                   0   Wednesday     8   \n",
       "1                 1                   0                   0   Wednesday     8   \n",
       "2                 1                   0                   1   Wednesday     8   \n",
       "3                 1                   0                   1   Wednesday     8   \n",
       "4                 1                   0                   0   Wednesday     9   \n",
       "...             ...                 ...                 ...         ...   ...   \n",
       "5555328           0                   0                   1      Friday    14   \n",
       "5555329           1                   0                   1      Friday    14   \n",
       "5555330           0                   0                   1      Friday    14   \n",
       "5555331           1                   0                   1      Friday    14   \n",
       "5555332           0                   0                   1      Friday    14   \n",
       "\n",
       "         server_watchdog_changed  beam_is_on_changed  \\\n",
       "0                           True                True   \n",
       "1                          False               False   \n",
       "2                          False               False   \n",
       "3                          False                True   \n",
       "4                          False               False   \n",
       "...                          ...                 ...   \n",
       "5555328                    False               False   \n",
       "5555329                    False               False   \n",
       "5555330                    False               False   \n",
       "5555331                    False               False   \n",
       "5555332                    False               False   \n",
       "\n",
       "         external_state_num_changed  is_blanked_changed  \\\n",
       "0                              True                True   \n",
       "1                             False               False   \n",
       "2                              True               False   \n",
       "3                             False               False   \n",
       "4                              True               False   \n",
       "...                             ...                 ...   \n",
       "5555328                       False                True   \n",
       "5555329                       False                True   \n",
       "5555330                       False                True   \n",
       "5555331                       False                True   \n",
       "5555332                       False                True   \n",
       "\n",
       "         service_mode_is_on_changed      duration_of_state  is_working  \\\n",
       "0                              True 0 days 00:35:33.520000       False   \n",
       "1                              True 0 days 00:00:23.423000       False   \n",
       "2                             False 0 days 00:00:03.425000       False   \n",
       "3                             False 0 days 00:51:17.095000       False   \n",
       "4                             False 0 days 00:00:02.111000       False   \n",
       "...                             ...                    ...         ...   \n",
       "5555328                       False 0 days 00:00:00.568000        True   \n",
       "5555329                       False 0 days 00:00:02.278000       False   \n",
       "5555330                       False 0 days 00:00:03.467000        True   \n",
       "5555331                       False 0 days 00:00:08.670000       False   \n",
       "5555332                       False                    NaT        True   \n",
       "\n",
       "         working_while_in_service  blanked_while_beam_is_on  \n",
       "0                           False                     False  \n",
       "1                           False                     False  \n",
       "2                           False                     False  \n",
       "3                           False                      True  \n",
       "4                           False                      True  \n",
       "...                           ...                       ...  \n",
       "5555328                     False                     False  \n",
       "5555329                     False                      True  \n",
       "5555330                     False                     False  \n",
       "5555331                     False                      True  \n",
       "5555332                     False                     False  \n",
       "\n",
       "[5555333 rows x 18 columns]"
      ]
     },
     "execution_count": 6,
     "metadata": {},
     "output_type": "execute_result"
    }
   ],
   "source": [
    "input_path = Path('data_raw/')\n",
    "output_path = Path('data_clean/')\n",
    "\n",
    "# overall_start = datetime.now()\n",
    "# print(f\"Overall start {overall_start}\")\n",
    "\n",
    "filepaths = [f for f in listdir(input_path) if f.endswith('.csv')]\n",
    "\n",
    "# read multiple files\n",
    "dfs = []\n",
    "for file in filepaths:\n",
    "#     file_start = datetime.now()\n",
    "#     print(f\"{file} start {file_start}\")\n",
    "    \n",
    "    columns = ['date','time','server_watchdog','beam_is_on','external_state','is_blanked','service_mode_is_on']\n",
    "    df = pd.read_csv(input_path / file, skiprows=11, names=columns, parse_dates=[['date','time']])\n",
    "    df.insert(0,'Microscope',file.rstrip('.csv'))\n",
    "    df = clean_data(df)\n",
    "    df = fill_na_values(df)\n",
    "    df = drop_consecutive_duplicates(df)\n",
    "    df = add_new_columns(df)\n",
    "    \n",
    "    #df.to_csv(output_path / file, index=False, decimal=',')\n",
    "    \n",
    "#     file_end = datetime.now()\n",
    "#     print(f\"{file} end {file_end}\")\n",
    "#     print(f\"{file} duration: {(file_end - file_start).seconds}\")\n",
    "    \n",
    "    dfs.append(df)\n",
    "\n",
    "df = pd.concat(dfs, ignore_index=True)\n",
    "#df.to_csv('concat_data.csv', index=False, decimal=',')\n",
    "\n",
    "# overall_end = datetime.now()\n",
    "# print(f\"Overall end {overall_end}\")\n",
    "# print(f\"Overall duration: {(overall_end - overall_start).seconds}\")\n",
    "df"
   ]
  },
  {
   "cell_type": "code",
   "execution_count": null,
   "metadata": {},
   "outputs": [],
   "source": []
  },
  {
   "cell_type": "markdown",
   "metadata": {},
   "source": [
    "## 3. Visualization"
   ]
  },
  {
   "cell_type": "code",
   "execution_count": 71,
   "metadata": {},
   "outputs": [],
   "source": [
    "microscopes = {f'M{i}':dfs[i-1] for i in range (1,10)}"
   ]
  },
  {
   "cell_type": "markdown",
   "metadata": {},
   "source": [
    "#### Working time by microscope (%)"
   ]
  },
  {
   "cell_type": "code",
   "execution_count": 73,
   "metadata": {},
   "outputs": [
    {
     "name": "stdout",
     "output_type": "stream",
     "text": [
      "M1: Total working time 3 days 10:45:13.288000\tfor total period in dataset 89 days 02:47:27.925000 (3.87%)\n",
      "M2: Total working time 39 days 10:57:18.753000\tfor total period in dataset 366 days 11:53:32.979000 (10.77%)\n",
      "M3: Total working time 2 days 22:39:02.344000\tfor total period in dataset 122 days 23:59:10.205000 (2.39%)\n",
      "M4: Total working time 34 days 21:38:56.336000\tfor total period in dataset 122 days 23:59:47.713000 (28.38%)\n",
      "M5: Total working time 35 days 22:15:16.882000\tfor total period in dataset 122 days 23:59:31.011000 (29.21%)\n",
      "M6: Total working time 2 days 18:00:58.886000\tfor total period in dataset 122 days 11:22:35.752000 (2.25%)\n",
      "M7: Total working time 28 days 17:15:38.596000\tfor total period in dataset 104 days 12:00:15.375000 (27.48%)\n",
      "M8: Total working time 2 days 01:01:13.886000\tfor total period in dataset 223 days 20:50:29.366000 (0.91%)\n",
      "M9: Total working time 36 days 10:38:56.978000\tfor total period in dataset 122 days 23:57:11.823000 (29.63%)\n"
     ]
    },
    {
     "data": {
      "text/plain": [
       "<AxesSubplot:title={'center':'Worked time in %'}>"
      ]
     },
     "execution_count": 73,
     "metadata": {},
     "output_type": "execute_result"
    },
    {
     "data": {
      "image/png": "[encoded data removed]",
      "text/plain": [
       "<Figure size 432x288 with 1 Axes>"
      ]
     },
     "metadata": {
      "needs_background": "light"
     },
     "output_type": "display_data"
    },
    {
     "data": {
      "image/png": "[encoded data removed]",
      "text/plain": [
       "<Figure size 432x288 with 1 Axes>"
      ]
     },
     "metadata": {
      "needs_background": "light"
     },
     "output_type": "display_data"
    }
   ],
   "source": [
    "total_times=[]\n",
    "worked_times=[]\n",
    "worked_times_percents=[]\n",
    "\n",
    "for name, df in microscopes.items():\n",
    "    is_working = df[(df['is_working'])]\n",
    "    total_time = df['duration_of_state'].sum()\n",
    "    total_worked_time = is_working['duration_of_state'].sum()\n",
    "    \n",
    "    worked_time_percent = round(total_worked_time/total_time * 100,2)\n",
    "    print(f'{name}: Total working time {total_worked_time}\\tfor total period in dataset {total_time} ({worked_time_percent}%)')\n",
    "    total_times.append(total_time.total_seconds())\n",
    "    worked_times.append(total_worked_time.total_seconds())\n",
    "    worked_times_percents.append(worked_time_percent)\n",
    "    \n",
    "\n",
    "df = pd.DataFrame({'total(s)':total_times,'worked(s)':worked_times})\n",
    "df.plot.bar(title='Worked time in (s)')\n",
    "\n",
    "df2 = pd.DataFrame({'worked(%)':worked_times_percents})\n",
    "df2.plot.bar(title='Worked time in %')"
   ]
  },
  {
   "cell_type": "markdown",
   "metadata": {},
   "source": [
    "#### Service time by microscope (%)"
   ]
  },
  {
   "cell_type": "code",
   "execution_count": 45,
   "metadata": {},
   "outputs": [
    {
     "data": {
      "text/plain": [
       "<AxesSubplot:title={'center':'Service time in (%)'}>"
      ]
     },
     "execution_count": 45,
     "metadata": {},
     "output_type": "execute_result"
    },
    {
     "data": {
      "image/png": "[encoded data removed]",
      "text/plain": [
       "<Figure size 432x288 with 1 Axes>"
      ]
     },
     "metadata": {
      "needs_background": "light"
     },
     "output_type": "display_data"
    },
    {
     "data": {
      "image/png": "[encoded data removed]",
      "text/plain": [
       "<Figure size 432x288 with 1 Axes>"
      ]
     },
     "metadata": {
      "needs_background": "light"
     },
     "output_type": "display_data"
    }
   ],
   "source": [
    "in_service = []\n",
    "in_service_percent = []\n",
    "\n",
    "for df, total_time in zip(dfs, total_times):\n",
    "    df['service_mode_is_on'] = df['service_mode_is_on'].astype(bool)\n",
    "    is_in_service = df[(df['service_mode_is_on'])]\n",
    "    \n",
    "    service_time = is_in_service['duration_of_state'].sum().total_seconds()\n",
    "    \n",
    "    service_time_percent = round(service_time/total_time * 100,2)\n",
    "    \n",
    "    in_service.append(service_time)\n",
    "    in_service_percent.append(service_time_percent)\n",
    "\n",
    "    \n",
    "df = pd.DataFrame({'total':total_times,'in_service':in_service})\n",
    "df.plot.bar(title='Service time in (s)')\n",
    "\n",
    "df2 = pd.DataFrame({'in_service':in_service_percent})\n",
    "df2.plot.bar(title='Service time in (%)')\n"
   ]
  },
  {
   "cell_type": "markdown",
   "metadata": {},
   "source": [
    "#### Optimalizations"
   ]
  },
  {
   "cell_type": "code",
   "execution_count": 75,
   "metadata": {},
   "outputs": [
    {
     "name": "stdout",
     "output_type": "stream",
     "text": [
      "M1: Duration of beam on while blanked 14 days 04:39:37.425000\n",
      "M2: Duration of beam on while blanked 51 days 13:37:38.827000\n",
      "M3: Duration of beam on while blanked 41 days 11:56:54.896000\n",
      "M4: Duration of beam on while blanked 46 days 11:26:25.719000\n",
      "M5: Duration of beam on while blanked 52 days 09:28:00.349000\n",
      "M6: Duration of beam on while blanked 8 days 03:22:17.574000\n",
      "M7: Duration of beam on while blanked 39 days 21:49:17.715000\n",
      "M8: Duration of beam on while blanked 39 days 18:10:52.306000\n",
      "M9: Duration of beam on while blanked 48 days 08:29:35.173000\n"
     ]
    },
    {
     "data": {
      "image/png": "[encoded data removed]",
      "text/plain": [
       "<Figure size 432x288 with 1 Axes>"
      ]
     },
     "metadata": {
      "needs_background": "light"
     },
     "output_type": "display_data"
    }
   ],
   "source": [
    "totals_time = []\n",
    "\n",
    "for name, df in microscopes.items():\n",
    "    blanked_while_beam_on = df[(df['blanked_while_beam_is_on'])]\n",
    "    total_time = blanked_while_beam_on['duration_of_state'].sum()\n",
    "    print(f'{name}: Duration of beam on while blanked {total_time}')\n",
    "    totals_time.append(total_time.total_seconds())\n",
    "\n",
    "df2 = pd.DataFrame({'value (s)':totals_time})\n",
    "graph = df2.plot.barh(title='Beam on while is blanked in (s)')\n",
    "\n",
    "\n",
    "for i in graph.patches:\n",
    "    totals.append(i.get_width())\n",
    "    \n",
    "for i, time in zip(graph.patches, totals_time):\n",
    "    # get_width pulls left or right; get_y pushes up or down\n",
    "    graph.text(i.get_width()+.3, i.get_y()+.1, str(time))"
   ]
  },
  {
   "cell_type": "code",
   "execution_count": 77,
   "metadata": {},
   "outputs": [
    {
     "name": "stdout",
     "output_type": "stream",
     "text": [
      "M1: Worked while in service 12 days 14:56:18.060000\n",
      "M2: Worked while in service 227 days 06:42:06.824000\n",
      "M3: Worked while in service 94 days 07:04:59.472000\n",
      "M4: Worked while in service 2 days 14:35:17.758000\n",
      "M5: Worked while in service 5 days 10:53:01.494000\n",
      "M6: Worked while in service 9 days 19:35:48.403000\n",
      "M7: Worked while in service 3 days 15:46:31.136000\n",
      "M8: Worked while in service 182 days 16:57:40.536000\n",
      "M9: Worked while in service 8 days 09:07:54.341000\n"
     ]
    }
   ],
   "source": [
    "for name, df in microscopes.items():\n",
    "    working_in_service = df[(df['working_while_in_service'])]\n",
    "    time = working_in_service['duration_of_state'].sum()\n",
    "    print(f\"{name}: Worked while in service {time}\")"
   ]
  },
  {
   "cell_type": "code",
   "execution_count": null,
   "metadata": {},
   "outputs": [],
   "source": []
  }
 ],
 "metadata": {
  "kernelspec": {
   "display_name": "Python 3",
   "language": "python",
   "name": "python3"
  },
  "language_info": {
   "codemirror_mode": {
    "name": "ipython",
    "version": 3
   },
   "file_extension": ".py",
   "mimetype": "text/x-python",
   "name": "python",
   "nbconvert_exporter": "python",
   "pygments_lexer": "ipython3",
   "version": "3.9.0"
  }
 },
 "nbformat": 4,
 "nbformat_minor": 4
}
